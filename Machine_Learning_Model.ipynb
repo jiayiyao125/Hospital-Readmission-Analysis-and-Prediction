{
  "cells": [
    {
      "cell_type": "code",
      "execution_count": 2,
      "metadata": {
        "id": "d331725a"
      },
      "outputs": [],
      "source": [
        "import pandas as pd\n",
        "import numpy as np\n",
        "import matplotlib.pyplot as plt\n",
        "import seaborn as sns"
      ],
      "id": "d331725a"
    },
    {
      "cell_type": "code",
      "execution_count": 3,
      "metadata": {
        "colab": {
          "base_uri": "https://localhost:8080/",
          "height": 300
        },
        "id": "b68605e4",
        "outputId": "3a1e6ddb-5552-4439-e4d4-74268db95536"
      },
      "outputs": [
        {
          "output_type": "execute_result",
          "data": {
            "text/plain": [
              "   gender  age  time_in_hospital  num_lab_procedures  num_procedures  \\\n",
              "0       0    5                 1                  41               0   \n",
              "1       0   15                 3                  59               0   \n",
              "2       0   25                 2                  11               5   \n",
              "3       1   35                 2                  44               1   \n",
              "4       1   45                 1                  51               0   \n",
              "\n",
              "   num_medications  number_outpatient  number_emergency  number_inpatient  \\\n",
              "0                1                  0                 0                 0   \n",
              "1               18                  0                 0                 0   \n",
              "2               13                  2                 0                 1   \n",
              "3               16                  0                 0                 0   \n",
              "4                8                  0                 0                 0   \n",
              "\n",
              "   number_diagnoses  ...  admission_source_id_Other  \\\n",
              "0                 1  ...                          0   \n",
              "1                 9  ...                          0   \n",
              "2                 6  ...                          0   \n",
              "3                 7  ...                          0   \n",
              "4                 5  ...                          0   \n",
              "\n",
              "   admission_source_id_Referral  diag_1_Diabetes  diag_1_Digestive  \\\n",
              "0                             1                1                 0   \n",
              "1                             0                0                 0   \n",
              "2                             0                0                 0   \n",
              "3                             0                0                 0   \n",
              "4                             0                0                 0   \n",
              "\n",
              "   diag_1_Genitourinary  diag_1_Injury  diag_1_Muscoloskeletal  \\\n",
              "0                     0              0                       0   \n",
              "1                     0              0                       0   \n",
              "2                     0              0                       0   \n",
              "3                     0              0                       0   \n",
              "4                     0              0                       0   \n",
              "\n",
              "   diag_1_Neoplasms  diag_1_Other  diag_1_Respiratory  \n",
              "0                 0             0                   0  \n",
              "1                 0             1                   0  \n",
              "2                 0             1                   0  \n",
              "3                 0             1                   0  \n",
              "4                 1             0                   0  \n",
              "\n",
              "[5 rows x 43 columns]"
            ],
            "text/html": [
              "\n",
              "  <div id=\"df-68a28d94-8e03-4e71-880a-a9c4d2be4567\">\n",
              "    <div class=\"colab-df-container\">\n",
              "      <div>\n",
              "<style scoped>\n",
              "    .dataframe tbody tr th:only-of-type {\n",
              "        vertical-align: middle;\n",
              "    }\n",
              "\n",
              "    .dataframe tbody tr th {\n",
              "        vertical-align: top;\n",
              "    }\n",
              "\n",
              "    .dataframe thead th {\n",
              "        text-align: right;\n",
              "    }\n",
              "</style>\n",
              "<table border=\"1\" class=\"dataframe\">\n",
              "  <thead>\n",
              "    <tr style=\"text-align: right;\">\n",
              "      <th></th>\n",
              "      <th>gender</th>\n",
              "      <th>age</th>\n",
              "      <th>time_in_hospital</th>\n",
              "      <th>num_lab_procedures</th>\n",
              "      <th>num_procedures</th>\n",
              "      <th>num_medications</th>\n",
              "      <th>number_outpatient</th>\n",
              "      <th>number_emergency</th>\n",
              "      <th>number_inpatient</th>\n",
              "      <th>number_diagnoses</th>\n",
              "      <th>...</th>\n",
              "      <th>admission_source_id_Other</th>\n",
              "      <th>admission_source_id_Referral</th>\n",
              "      <th>diag_1_Diabetes</th>\n",
              "      <th>diag_1_Digestive</th>\n",
              "      <th>diag_1_Genitourinary</th>\n",
              "      <th>diag_1_Injury</th>\n",
              "      <th>diag_1_Muscoloskeletal</th>\n",
              "      <th>diag_1_Neoplasms</th>\n",
              "      <th>diag_1_Other</th>\n",
              "      <th>diag_1_Respiratory</th>\n",
              "    </tr>\n",
              "  </thead>\n",
              "  <tbody>\n",
              "    <tr>\n",
              "      <th>0</th>\n",
              "      <td>0</td>\n",
              "      <td>5</td>\n",
              "      <td>1</td>\n",
              "      <td>41</td>\n",
              "      <td>0</td>\n",
              "      <td>1</td>\n",
              "      <td>0</td>\n",
              "      <td>0</td>\n",
              "      <td>0</td>\n",
              "      <td>1</td>\n",
              "      <td>...</td>\n",
              "      <td>0</td>\n",
              "      <td>1</td>\n",
              "      <td>1</td>\n",
              "      <td>0</td>\n",
              "      <td>0</td>\n",
              "      <td>0</td>\n",
              "      <td>0</td>\n",
              "      <td>0</td>\n",
              "      <td>0</td>\n",
              "      <td>0</td>\n",
              "    </tr>\n",
              "    <tr>\n",
              "      <th>1</th>\n",
              "      <td>0</td>\n",
              "      <td>15</td>\n",
              "      <td>3</td>\n",
              "      <td>59</td>\n",
              "      <td>0</td>\n",
              "      <td>18</td>\n",
              "      <td>0</td>\n",
              "      <td>0</td>\n",
              "      <td>0</td>\n",
              "      <td>9</td>\n",
              "      <td>...</td>\n",
              "      <td>0</td>\n",
              "      <td>0</td>\n",
              "      <td>0</td>\n",
              "      <td>0</td>\n",
              "      <td>0</td>\n",
              "      <td>0</td>\n",
              "      <td>0</td>\n",
              "      <td>0</td>\n",
              "      <td>1</td>\n",
              "      <td>0</td>\n",
              "    </tr>\n",
              "    <tr>\n",
              "      <th>2</th>\n",
              "      <td>0</td>\n",
              "      <td>25</td>\n",
              "      <td>2</td>\n",
              "      <td>11</td>\n",
              "      <td>5</td>\n",
              "      <td>13</td>\n",
              "      <td>2</td>\n",
              "      <td>0</td>\n",
              "      <td>1</td>\n",
              "      <td>6</td>\n",
              "      <td>...</td>\n",
              "      <td>0</td>\n",
              "      <td>0</td>\n",
              "      <td>0</td>\n",
              "      <td>0</td>\n",
              "      <td>0</td>\n",
              "      <td>0</td>\n",
              "      <td>0</td>\n",
              "      <td>0</td>\n",
              "      <td>1</td>\n",
              "      <td>0</td>\n",
              "    </tr>\n",
              "    <tr>\n",
              "      <th>3</th>\n",
              "      <td>1</td>\n",
              "      <td>35</td>\n",
              "      <td>2</td>\n",
              "      <td>44</td>\n",
              "      <td>1</td>\n",
              "      <td>16</td>\n",
              "      <td>0</td>\n",
              "      <td>0</td>\n",
              "      <td>0</td>\n",
              "      <td>7</td>\n",
              "      <td>...</td>\n",
              "      <td>0</td>\n",
              "      <td>0</td>\n",
              "      <td>0</td>\n",
              "      <td>0</td>\n",
              "      <td>0</td>\n",
              "      <td>0</td>\n",
              "      <td>0</td>\n",
              "      <td>0</td>\n",
              "      <td>1</td>\n",
              "      <td>0</td>\n",
              "    </tr>\n",
              "    <tr>\n",
              "      <th>4</th>\n",
              "      <td>1</td>\n",
              "      <td>45</td>\n",
              "      <td>1</td>\n",
              "      <td>51</td>\n",
              "      <td>0</td>\n",
              "      <td>8</td>\n",
              "      <td>0</td>\n",
              "      <td>0</td>\n",
              "      <td>0</td>\n",
              "      <td>5</td>\n",
              "      <td>...</td>\n",
              "      <td>0</td>\n",
              "      <td>0</td>\n",
              "      <td>0</td>\n",
              "      <td>0</td>\n",
              "      <td>0</td>\n",
              "      <td>0</td>\n",
              "      <td>0</td>\n",
              "      <td>1</td>\n",
              "      <td>0</td>\n",
              "      <td>0</td>\n",
              "    </tr>\n",
              "  </tbody>\n",
              "</table>\n",
              "<p>5 rows × 43 columns</p>\n",
              "</div>\n",
              "      <button class=\"colab-df-convert\" onclick=\"convertToInteractive('df-68a28d94-8e03-4e71-880a-a9c4d2be4567')\"\n",
              "              title=\"Convert this dataframe to an interactive table.\"\n",
              "              style=\"display:none;\">\n",
              "        \n",
              "  <svg xmlns=\"http://www.w3.org/2000/svg\" height=\"24px\"viewBox=\"0 0 24 24\"\n",
              "       width=\"24px\">\n",
              "    <path d=\"M0 0h24v24H0V0z\" fill=\"none\"/>\n",
              "    <path d=\"M18.56 5.44l.94 2.06.94-2.06 2.06-.94-2.06-.94-.94-2.06-.94 2.06-2.06.94zm-11 1L8.5 8.5l.94-2.06 2.06-.94-2.06-.94L8.5 2.5l-.94 2.06-2.06.94zm10 10l.94 2.06.94-2.06 2.06-.94-2.06-.94-.94-2.06-.94 2.06-2.06.94z\"/><path d=\"M17.41 7.96l-1.37-1.37c-.4-.4-.92-.59-1.43-.59-.52 0-1.04.2-1.43.59L10.3 9.45l-7.72 7.72c-.78.78-.78 2.05 0 2.83L4 21.41c.39.39.9.59 1.41.59.51 0 1.02-.2 1.41-.59l7.78-7.78 2.81-2.81c.8-.78.8-2.07 0-2.86zM5.41 20L4 18.59l7.72-7.72 1.47 1.35L5.41 20z\"/>\n",
              "  </svg>\n",
              "      </button>\n",
              "      \n",
              "  <style>\n",
              "    .colab-df-container {\n",
              "      display:flex;\n",
              "      flex-wrap:wrap;\n",
              "      gap: 12px;\n",
              "    }\n",
              "\n",
              "    .colab-df-convert {\n",
              "      background-color: #E8F0FE;\n",
              "      border: none;\n",
              "      border-radius: 50%;\n",
              "      cursor: pointer;\n",
              "      display: none;\n",
              "      fill: #1967D2;\n",
              "      height: 32px;\n",
              "      padding: 0 0 0 0;\n",
              "      width: 32px;\n",
              "    }\n",
              "\n",
              "    .colab-df-convert:hover {\n",
              "      background-color: #E2EBFA;\n",
              "      box-shadow: 0px 1px 2px rgba(60, 64, 67, 0.3), 0px 1px 3px 1px rgba(60, 64, 67, 0.15);\n",
              "      fill: #174EA6;\n",
              "    }\n",
              "\n",
              "    [theme=dark] .colab-df-convert {\n",
              "      background-color: #3B4455;\n",
              "      fill: #D2E3FC;\n",
              "    }\n",
              "\n",
              "    [theme=dark] .colab-df-convert:hover {\n",
              "      background-color: #434B5C;\n",
              "      box-shadow: 0px 1px 3px 1px rgba(0, 0, 0, 0.15);\n",
              "      filter: drop-shadow(0px 1px 2px rgba(0, 0, 0, 0.3));\n",
              "      fill: #FFFFFF;\n",
              "    }\n",
              "  </style>\n",
              "\n",
              "      <script>\n",
              "        const buttonEl =\n",
              "          document.querySelector('#df-68a28d94-8e03-4e71-880a-a9c4d2be4567 button.colab-df-convert');\n",
              "        buttonEl.style.display =\n",
              "          google.colab.kernel.accessAllowed ? 'block' : 'none';\n",
              "\n",
              "        async function convertToInteractive(key) {\n",
              "          const element = document.querySelector('#df-68a28d94-8e03-4e71-880a-a9c4d2be4567');\n",
              "          const dataTable =\n",
              "            await google.colab.kernel.invokeFunction('convertToInteractive',\n",
              "                                                     [key], {});\n",
              "          if (!dataTable) return;\n",
              "\n",
              "          const docLinkHtml = 'Like what you see? Visit the ' +\n",
              "            '<a target=\"_blank\" href=https://colab.research.google.com/notebooks/data_table.ipynb>data table notebook</a>'\n",
              "            + ' to learn more about interactive tables.';\n",
              "          element.innerHTML = '';\n",
              "          dataTable['output_type'] = 'display_data';\n",
              "          await google.colab.output.renderOutput(dataTable, element);\n",
              "          const docLink = document.createElement('div');\n",
              "          docLink.innerHTML = docLinkHtml;\n",
              "          element.appendChild(docLink);\n",
              "        }\n",
              "      </script>\n",
              "    </div>\n",
              "  </div>\n",
              "  "
            ]
          },
          "metadata": {},
          "execution_count": 3
        }
      ],
      "source": [
        "diabetic_df = pd.read_csv('/content/df_for_model.csv',index_col=0)\n",
        "diabetic_df.head()"
      ],
      "id": "b68605e4"
    },
    {
      "cell_type": "markdown",
      "metadata": {
        "id": "d9c982dd"
      },
      "source": [
        "# Modeling\n",
        "* Logistic Regression\n",
        "* Support Vector Machine (SVM)\n",
        "* KNN\n",
        "* Decision Tree\n",
        "* Random Forest\n",
        "* Naïve Bayes\n",
        "* XGBoost"
      ],
      "id": "d9c982dd"
    },
    {
      "cell_type": "code",
      "execution_count": 4,
      "metadata": {
        "id": "e6280a96"
      },
      "outputs": [],
      "source": [
        "# To define X and y\n",
        "X = diabetic_df.drop('readmitted_in_30_days',axis=1)\n",
        "y = diabetic_df.readmitted_in_30_days"
      ],
      "id": "e6280a96"
    },
    {
      "cell_type": "code",
      "execution_count": 5,
      "metadata": {
        "id": "10ff102b"
      },
      "outputs": [],
      "source": [
        "# To split the dataset into train and test set\n",
        "from sklearn.model_selection import train_test_split\n",
        "X_train, X_test, y_train, y_test = train_test_split(X, y, test_size=0.2, random_state=42, stratify=y)"
      ],
      "id": "10ff102b"
    },
    {
      "cell_type": "markdown",
      "metadata": {
        "id": "pUe87V4aosFE"
      },
      "source": [
        "The data is extremely imbalanced since the readmission rate is less that 9% so I will perform the following resampling techniques to balance the data and see which one performs better"
      ],
      "id": "pUe87V4aosFE"
    },
    {
      "cell_type": "code",
      "source": [
        "# Resample using SMOTE\n",
        "from imblearn.over_sampling import SMOTE\n",
        "sm = SMOTE(random_state = 1)\n",
        "X_train_sm, y_train_sm = sm.fit_resample(X_train, y_train.ravel())"
      ],
      "metadata": {
        "id": "oIQHN3xn_UcB"
      },
      "id": "oIQHN3xn_UcB",
      "execution_count": 6,
      "outputs": []
    },
    {
      "cell_type": "code",
      "source": [
        "# Resample using downsampling\n",
        "from sklearn.utils import resample\n",
        "X = pd.concat([X_train, y_train], axis=1)\n",
        "not_readmitted = X[X.readmitted_in_30_days==0]\n",
        "readmitted = X[X.readmitted_in_30_days==1]\n"
      ],
      "metadata": {
        "id": "nCKT4n1PyHjW"
      },
      "id": "nCKT4n1PyHjW",
      "execution_count": 7,
      "outputs": []
    },
    {
      "cell_type": "code",
      "source": [
        "not_readmitted_downsampled = resample(not_readmitted,\n",
        "                                replace = False, \n",
        "                                n_samples = len(readmitted), \n",
        "                                random_state = 1) \n",
        "downsampled = pd.concat([not_readmitted_downsampled, readmitted])\n",
        "y_train_down = downsampled.readmitted_in_30_days\n",
        "X_train_down = downsampled.drop('readmitted_in_30_days', axis=1)"
      ],
      "metadata": {
        "id": "RG4DCeQzx9hy"
      },
      "id": "RG4DCeQzx9hy",
      "execution_count": 8,
      "outputs": []
    },
    {
      "cell_type": "code",
      "execution_count": null,
      "metadata": {
        "id": "rmBJLwAopOSx"
      },
      "outputs": [],
      "source": [
        "# Resample using upsampling\n",
        "readmitted_upsampled = resample(readmitted,\n",
        "                          replace=True, \n",
        "                          n_samples=len(not_readmitted), \n",
        "                          random_state=1) \n",
        "upsampled = pd.concat([not_readmitted, readmitted_upsampled])\n",
        "upsampled.readmitted_in_30_days.value_counts()\n",
        "\n",
        "X_train_up = upsampled.drop('readmitted_in_30_days',axis=1)\n",
        "y_train_up = upsampled.readmitted_in_30_days"
      ],
      "id": "rmBJLwAopOSx"
    },
    {
      "cell_type": "code",
      "source": [
        "# Use logistic regression to test \n",
        "\n",
        "from sklearn.metrics import confusion_matrix, recall_score, precision_score, f1_score, roc_curve, roc_auc_score,accuracy_score\n",
        "from sklearn.linear_model import LogisticRegression\n",
        "logistic_regression_model = LogisticRegression(max_iter=5000,C=100,solver='liblinear') \n",
        "#SMOTE\n",
        "logistic_regression_model.fit(X_train_sm, y_train_sm)\n",
        "y_pred_log = logistic_regression_model.predict(X_test)\n",
        "y_test_proba = logistic_regression_model.predict_proba(X_test)[:,1]\n",
        "print('SMOTE')\n",
        "print(\"Roc-Auc : {0:.2f}\".format(roc_auc_score(y_test, y_test_proba)))\n",
        "print(\"Accuracy : {0:.2f}\".format(accuracy_score(y_test, y_pred_log)))\n",
        "print(\"Recall score : {0:.2f}\".format(recall_score(y_test, y_pred_log)))\n",
        "print(\"Precision score: {0:.2f}\".format(precision_score(y_test, y_pred_log)))\n",
        "print(\"F1 score : {0:.2f}\".format(f1_score(y_test, y_pred_log)))\n"
      ],
      "metadata": {
        "colab": {
          "base_uri": "https://localhost:8080/"
        },
        "id": "kD_UV3a1APLN",
        "outputId": "bec4243d-d5fb-4449-c2e7-f45abe0dae24"
      },
      "id": "kD_UV3a1APLN",
      "execution_count": null,
      "outputs": [
        {
          "output_type": "stream",
          "name": "stdout",
          "text": [
            "SMOTE\n",
            "Roc-Auc : 0.54\n",
            "Accuracy : 0.82\n",
            "Recall score : 0.16\n",
            "Precision score: 0.12\n",
            "F1 score : 0.14\n"
          ]
        }
      ]
    },
    {
      "cell_type": "code",
      "source": [
        "from sklearn.metrics import confusion_matrix, recall_score, precision_score, f1_score, roc_curve, roc_auc_score,accuracy_score\n",
        "from sklearn.linear_model import LogisticRegression\n",
        "logistic_regression_model = LogisticRegression(max_iter=5000,C=100,solver='liblinear') \n",
        "logistic_regression_model.fit(X_train_down, y_train_down)\n",
        "y_pred_log = logistic_regression_model.predict(X_test)\n",
        "y_test_proba = logistic_regression_model.predict_proba(X_test)[:,1]\n",
        "print('Downsampling')\n",
        "print(\"Roc-Auc : {0:.2f}\".format(roc_auc_score(y_test, y_test_proba)))\n",
        "print(\"Accuracy : {0:.2f}\".format(accuracy_score(y_test, y_pred_log)))\n",
        "print(\"Recall score : {0:.2f}\".format(recall_score(y_test, y_pred_log)))\n",
        "print(\"Precision score: {0:.2f}\".format(precision_score(y_test, y_pred_log)))\n",
        "print(\"F1 score : {0:.2f}\".format(f1_score(y_test, y_pred_log)))"
      ],
      "metadata": {
        "colab": {
          "base_uri": "https://localhost:8080/"
        },
        "id": "q3wCiRjYEWM2",
        "outputId": "2156024f-9cb6-402b-c2ac-edf732f47ca9"
      },
      "id": "q3wCiRjYEWM2",
      "execution_count": 9,
      "outputs": [
        {
          "output_type": "stream",
          "name": "stdout",
          "text": [
            "Downsampling\n",
            "Roc-Auc : 0.64\n",
            "Accuracy : 0.67\n",
            "Recall score : 0.52\n",
            "Precision score: 0.14\n",
            "F1 score : 0.22\n"
          ]
        }
      ]
    },
    {
      "cell_type": "code",
      "source": [
        "logistic_regression_model.fit(X_train_up, y_train_up)\n",
        "y_pred_log = logistic_regression_model.predict(X_test)\n",
        "y_test_proba = logistic_regression_model.predict_proba(X_test)[:,1]\n",
        "print('Upsampling')\n",
        "print(\"Roc-Auc : {0:.2f}\".format(roc_auc_score(y_test, y_test_proba)))\n",
        "print(\"Accuracy : {0:.2f}\".format(accuracy_score(y_test, y_pred_log)))\n",
        "print(\"Recall score : {0:.2f}\".format(recall_score(y_test, y_pred_log)))\n",
        "print(\"Precision score: {0:.2f}\".format(precision_score(y_test, y_pred_log)))\n",
        "print(\"F1 score : {0:.2f}\".format(f1_score(y_test, y_pred_log)))"
      ],
      "metadata": {
        "colab": {
          "base_uri": "https://localhost:8080/"
        },
        "id": "luEJUAUFElg2",
        "outputId": "e2fa9e88-0a28-4f60-b8dc-d3d1149d0b82"
      },
      "id": "luEJUAUFElg2",
      "execution_count": null,
      "outputs": [
        {
          "output_type": "stream",
          "name": "stdout",
          "text": [
            "Upsampling\n",
            "Roc-Auc : 0.65\n",
            "Accuracy : 0.69\n",
            "Recall score : 0.51\n",
            "Precision score: 0.14\n",
            "F1 score : 0.22\n"
          ]
        }
      ]
    },
    {
      "cell_type": "markdown",
      "source": [
        "Compare to SMOTE, upsampling and downsampling perform better. I decided to use downsampling"
      ],
      "metadata": {
        "id": "4XGFESZ7FGVC"
      },
      "id": "4XGFESZ7FGVC"
    },
    {
      "cell_type": "code",
      "source": [
        "y_train_down.value_counts()"
      ],
      "metadata": {
        "colab": {
          "base_uri": "https://localhost:8080/"
        },
        "id": "Tig6TSd6VlW9",
        "outputId": "e7132d59-2e05-4ef8-b534-186dc95f22ec"
      },
      "id": "Tig6TSd6VlW9",
      "execution_count": 10,
      "outputs": [
        {
          "output_type": "execute_result",
          "data": {
            "text/plain": [
              "0    4806\n",
              "1    4806\n",
              "Name: readmitted_in_30_days, dtype: int64"
            ]
          },
          "metadata": {},
          "execution_count": 10
        }
      ]
    },
    {
      "cell_type": "code",
      "source": [
        "X_train = X_train_down\n",
        "y_train = y_train_down"
      ],
      "metadata": {
        "id": "RiajvExtAPOU"
      },
      "id": "RiajvExtAPOU",
      "execution_count": 11,
      "outputs": []
    },
    {
      "cell_type": "code",
      "source": [
        "# Scale data\n",
        "from sklearn.preprocessing import StandardScaler\n",
        "ss = StandardScaler().fit(X_train)\n",
        "X_train = ss.transform(X_train)\n",
        "X_test = ss.transform(X_test)"
      ],
      "metadata": {
        "id": "fUUXJJfKeaEk"
      },
      "id": "fUUXJJfKeaEk",
      "execution_count": 12,
      "outputs": []
    },
    {
      "cell_type": "markdown",
      "metadata": {
        "id": "yosEuUjipH5H"
      },
      "source": [
        "Now we have a balanced data for modeling. The next step is to use Grid Search to find the optimal hyperparameter and fit the model"
      ],
      "id": "yosEuUjipH5H"
    },
    {
      "cell_type": "markdown",
      "metadata": {
        "id": "ffe181d6"
      },
      "source": [
        "Logistic Regression"
      ],
      "id": "ffe181d6"
    },
    {
      "cell_type": "code",
      "execution_count": 19,
      "metadata": {
        "colab": {
          "base_uri": "https://localhost:8080/"
        },
        "id": "7zJ9iqzHqZq_",
        "outputId": "5f915594-7c57-4b4b-a6a5-c6159f187e09"
      },
      "outputs": [
        {
          "output_type": "stream",
          "name": "stdout",
          "text": [
            "0.5249707403713647\n",
            "{'C': 0.01, 'solver': 'lbfgs'}\n",
            "LogisticRegression(C=0.01)\n"
          ]
        }
      ],
      "source": [
        "from sklearn.model_selection import GridSearchCV\n",
        "from sklearn.linear_model import LogisticRegression\n",
        "\n",
        "logistic_regression_model = LogisticRegression() \n",
        "param_grid = dict(C=[0.01, 0.1, 1, 10, 100], solver=['lbfgs','liblinear'])\n",
        "grid = GridSearchCV(logistic_regression_model, param_grid, cv=5, scoring = 'recall')\n",
        "grid.fit(X_train, y_train)\n",
        "print(grid.best_score_)\n",
        "print(grid.best_params_)\n",
        "print(grid.best_estimator_)"
      ],
      "id": "7zJ9iqzHqZq_"
    },
    {
      "cell_type": "code",
      "execution_count": 13,
      "metadata": {
        "colab": {
          "base_uri": "https://localhost:8080/"
        },
        "id": "b8c18762",
        "outputId": "617ea034-baa5-4dcc-84d8-62e7631ba7d4"
      },
      "outputs": [
        {
          "output_type": "stream",
          "name": "stdout",
          "text": [
            "Roc-Auc : 0.64\n",
            "Accuracy : 0.67\n",
            "Recall score : 0.52\n",
            "Precision score: 0.14\n",
            "F1 score : 0.51\n"
          ]
        }
      ],
      "source": [
        "#Refit the model with optimal hyperparameter\n",
        "from sklearn.metrics import confusion_matrix, recall_score, precision_score, f1_score, roc_curve, roc_auc_score,accuracy_score\n",
        "from sklearn.linear_model import LogisticRegression\n",
        "logistic_regression_model = LogisticRegression(C=1,solver='lbfgs') \n",
        "logistic_regression_model.fit(X_train, y_train)\n",
        "y_pred_log = logistic_regression_model.predict(X_test)\n",
        "y_test_proba = logistic_regression_model.predict_proba(X_test)[:,1]\n",
        "print(\"Roc-Auc : {0:.2f}\".format(roc_auc_score(y_test, y_test_proba)))\n",
        "print(\"Accuracy : {0:.2f}\".format(accuracy_score(y_test, y_pred_log)))\n",
        "print(\"Recall score : {0:.2f}\".format(recall_score(y_test, y_pred_log)))\n",
        "print(\"Precision score: {0:.2f}\".format(precision_score(y_test, y_pred_log)))\n",
        "print(\"F1 score : {0:.2f}\".format(f1_score(y_test, y_pred_log,average='macro')))\n",
        "\n"
      ],
      "id": "b8c18762"
    },
    {
      "cell_type": "markdown",
      "source": [
        "I used Macro f1 score to evaluate the model since I have highly imbalanced dataset and Macro calculates F1 score for each class then averages them\n",
        "\n"
      ],
      "metadata": {
        "id": "XOdOwD5Y5lL2"
      },
      "id": "XOdOwD5Y5lL2"
    },
    {
      "cell_type": "code",
      "source": [
        "# Plot out highest coef and lowest coef\n",
        "coef = pd.DataFrame({\"coefficients\": logistic_regression_model.coef_[0]},index=X_train_down.columns).sort_values(\"coefficients\", ascending=True)\n"
      ],
      "metadata": {
        "id": "EFBwXraPbUGN"
      },
      "id": "EFBwXraPbUGN",
      "execution_count": 14,
      "outputs": []
    },
    {
      "cell_type": "code",
      "source": [
        "coef.tail(10).plot(kind=\"barh\",align=\"center\", figsize=(20, 10), legend=False)\n",
        "plt.title(\"The 10 highest model coefficients indicating strong effect on readmission\")\n",
        "plt.ylabel(\"Coefficients\")\n",
        "plt.xticks()\n",
        "plt.show()\n"
      ],
      "metadata": {
        "colab": {
          "base_uri": "https://localhost:8080/",
          "height": 607
        },
        "id": "RgDbmr6mbrLn",
        "outputId": "3c2c9438-fa45-4d30-a03e-89d594f28aae"
      },
      "id": "RgDbmr6mbrLn",
      "execution_count": 15,
      "outputs": [
        {
          "output_type": "display_data",
          "data": {
            "text/plain": [
              "<Figure size 1440x720 with 1 Axes>"
            ],
            "image/png": "[encoded data removed]"
          },
          "metadata": {
            "needs_background": "light"
          }
        }
      ]
    },
    {
      "cell_type": "code",
      "source": [
        "coef.head(10).plot(kind=\"barh\",align=\"center\", figsize=(20, 10), legend=False)\n",
        "plt.title(\"The 10 lowest model coefficients indicating strong negative effect on readmission\")\n",
        "plt.ylabel(\"Coefficients\")\n",
        "plt.xticks()\n",
        "plt.show()"
      ],
      "metadata": {
        "colab": {
          "base_uri": "https://localhost:8080/",
          "height": 607
        },
        "id": "ZeJj1-8k3day",
        "outputId": "d07113e0-5cfd-4b88-db26-12e29740c5ae"
      },
      "id": "ZeJj1-8k3day",
      "execution_count": 17,
      "outputs": [
        {
          "output_type": "display_data",
          "data": {
            "text/plain": [
              "<Figure size 1440x720 with 1 Axes>"
            ],
            "image/png": "[encoded data removed]"
          },
          "metadata": {
            "needs_background": "light"
          }
        }
      ]
    },
    {
      "cell_type": "markdown",
      "source": [
        "admission_source_id_referral is related to PCP referral, hospital clinic referral and HMO referral"
      ],
      "metadata": {
        "id": "JNLJHMrcy4au"
      },
      "id": "JNLJHMrcy4au"
    },
    {
      "cell_type": "markdown",
      "metadata": {
        "id": "c7519b71"
      },
      "source": [
        "KNN"
      ],
      "id": "c7519b71"
    },
    {
      "cell_type": "code",
      "execution_count": null,
      "metadata": {
        "id": "36513569",
        "colab": {
          "base_uri": "https://localhost:8080/"
        },
        "outputId": "e8b0f8ae-70c6-4a4e-e2be-ce1cde3b8d4b"
      },
      "outputs": [
        {
          "output_type": "stream",
          "name": "stdout",
          "text": [
            "0.5372481021804643\n",
            "{'n_neighbors': 9}\n",
            "KNeighborsClassifier(n_neighbors=9)\n"
          ]
        }
      ],
      "source": [
        "from sklearn.neighbors import KNeighborsClassifier\n",
        "knn = KNeighborsClassifier()\n",
        "param_grid = dict(n_neighbors=list(range(1,11)))\n",
        "grid = GridSearchCV(knn, param_grid, cv=5, scoring = 'recall')\n",
        "grid.fit(X_train, y_train)\n",
        "print(grid.best_score_)\n",
        "print(grid.best_params_)\n",
        "print(grid.best_estimator_)\n"
      ],
      "id": "36513569"
    },
    {
      "cell_type": "code",
      "execution_count": 18,
      "metadata": {
        "id": "UPyNp7zdxF8A",
        "colab": {
          "base_uri": "https://localhost:8080/"
        },
        "outputId": "16090437-6683-4f89-e976-47dbb15e5d41"
      },
      "outputs": [
        {
          "output_type": "stream",
          "name": "stdout",
          "text": [
            "Roc-Auc : 0.57\n",
            "Accuracy : 0.58\n",
            "Recall score : 0.51\n",
            "Precision score: 0.11\n",
            "F1 score : 0.45\n"
          ]
        }
      ],
      "source": [
        "#Refit the model with optimal hyperparameter\n",
        "from sklearn.neighbors import KNeighborsClassifier\n",
        "knn = KNeighborsClassifier(n_neighbors=9)\n",
        "knn.fit(X_train, y_train)\n",
        "y_pred_knn = knn.predict(X_test)\n",
        "y_test_proba_knn = knn.predict_proba(X_test)[:,1]\n",
        "print(\"Roc-Auc : {0:.2f}\".format(roc_auc_score(y_test, y_test_proba_knn)))\n",
        "print(\"Accuracy : {0:.2f}\".format(accuracy_score(y_test, y_pred_knn)))\n",
        "print(\"Recall score : {0:.2f}\".format(recall_score(y_test, y_pred_knn)))\n",
        "print(\"Precision score: {0:.2f}\".format(precision_score(y_test, y_pred_knn)))\n",
        "print(\"F1 score : {0:.2f}\".format(f1_score(y_test, y_pred_knn,average='macro')))"
      ],
      "id": "UPyNp7zdxF8A"
    },
    {
      "cell_type": "markdown",
      "metadata": {
        "id": "10525ef2"
      },
      "source": [
        "Decision Tree"
      ],
      "id": "10525ef2"
    },
    {
      "cell_type": "code",
      "execution_count": null,
      "metadata": {
        "id": "PcMoO0kBx1sm",
        "colab": {
          "base_uri": "https://localhost:8080/"
        },
        "outputId": "798a695f-9a19-4f29-8a78-c6961ae7fc71"
      },
      "outputs": [
        {
          "output_type": "stream",
          "name": "stdout",
          "text": [
            "0.5524364995748972\n",
            "{'max_depth': 9, 'min_samples_split': 6}\n",
            "DecisionTreeClassifier(criterion='entropy', max_depth=9, min_samples_split=6)\n"
          ]
        }
      ],
      "source": [
        "from sklearn.tree import DecisionTreeClassifier\n",
        "dtree = DecisionTreeClassifier(criterion = \"entropy\")\n",
        "param_grid = dict(max_depth=list(range(1,60,2)),min_samples_split=list(range(2,10,2)))\n",
        "grid = GridSearchCV(dtree, param_grid, cv=5, scoring = 'recall')\n",
        "grid.fit(X_train, y_train)\n",
        "print(grid.best_score_)\n",
        "print(grid.best_params_)\n",
        "print(grid.best_estimator_)"
      ],
      "id": "PcMoO0kBx1sm"
    },
    {
      "cell_type": "code",
      "execution_count": 26,
      "metadata": {
        "id": "8da850f2",
        "outputId": "9f31d922-8305-4b39-9757-c152f8d42cf7",
        "colab": {
          "base_uri": "https://localhost:8080/"
        }
      },
      "outputs": [
        {
          "output_type": "stream",
          "name": "stdout",
          "text": [
            "Roc-Auc : 0.61\n",
            "Accuracy : 0.57\n",
            "Recall score : 0.60\n",
            "Precision score: 0.12\n",
            "F1 score : 0.45\n"
          ]
        }
      ],
      "source": [
        "#Refit the model with optimal hyperparameter\n",
        "from sklearn.tree import DecisionTreeClassifier\n",
        "dtree = DecisionTreeClassifier(max_depth=9, criterion = \"entropy\",min_samples_split=4)\n",
        "dtree.fit(X_train, y_train)\n",
        "y_pred_dtree = dtree.predict(X_test)\n",
        "y_test_proba_dtree = dtree.predict_proba(X_test)[:,1]\n",
        "print(\"Roc-Auc : {0:.2f}\".format(roc_auc_score(y_test, y_test_proba_dtree)))\n",
        "print(\"Accuracy : {0:.2f}\".format(accuracy_score(y_test, y_pred_dtree)))\n",
        "print(\"Recall score : {0:.2f}\".format(recall_score(y_test, y_pred_dtree)))\n",
        "print(\"Precision score: {0:.2f}\".format(precision_score(y_test, y_pred_dtree)))\n",
        "print(\"F1 score : {0:.2f}\".format(f1_score(y_test, y_pred_dtree,average='macro')))"
      ],
      "id": "8da850f2"
    },
    {
      "cell_type": "markdown",
      "metadata": {
        "id": "IhBIAhJRzj_l"
      },
      "source": [
        "Random Forest"
      ],
      "id": "IhBIAhJRzj_l"
    },
    {
      "cell_type": "code",
      "execution_count": 20,
      "metadata": {
        "id": "xOKATjLWzjX7",
        "colab": {
          "base_uri": "https://localhost:8080/"
        },
        "outputId": "b37cb470-45bd-440a-dca7-6ccda79ca8ee"
      },
      "outputs": [
        {
          "output_type": "stream",
          "name": "stderr",
          "text": [
            "/usr/local/lib/python3.7/dist-packages/sklearn/model_selection/_validation.py:372: FitFailedWarning: \n",
            "570 fits failed out of a total of 2850.\n",
            "The score on these train-test partitions for these parameters will be set to nan.\n",
            "If these failures are not expected, you can try to debug them by setting error_score='raise'.\n",
            "\n",
            "Below are more details about the failures:\n",
            "--------------------------------------------------------------------------------\n",
            "570 fits failed with the following error:\n",
            "Traceback (most recent call last):\n",
            "  File \"/usr/local/lib/python3.7/dist-packages/sklearn/model_selection/_validation.py\", line 680, in _fit_and_score\n",
            "    estimator.fit(X_train, y_train, **fit_params)\n",
            "  File \"/usr/local/lib/python3.7/dist-packages/sklearn/ensemble/_forest.py\", line 467, in fit\n",
            "    for i, t in enumerate(trees)\n",
            "  File \"/usr/local/lib/python3.7/dist-packages/joblib/parallel.py\", line 1043, in __call__\n",
            "    if self.dispatch_one_batch(iterator):\n",
            "  File \"/usr/local/lib/python3.7/dist-packages/joblib/parallel.py\", line 861, in dispatch_one_batch\n",
            "    self._dispatch(tasks)\n",
            "  File \"/usr/local/lib/python3.7/dist-packages/joblib/parallel.py\", line 779, in _dispatch\n",
            "    job = self._backend.apply_async(batch, callback=cb)\n",
            "  File \"/usr/local/lib/python3.7/dist-packages/joblib/_parallel_backends.py\", line 208, in apply_async\n",
            "    result = ImmediateResult(func)\n",
            "  File \"/usr/local/lib/python3.7/dist-packages/joblib/_parallel_backends.py\", line 572, in __init__\n",
            "    self.results = batch()\n",
            "  File \"/usr/local/lib/python3.7/dist-packages/joblib/parallel.py\", line 263, in __call__\n",
            "    for func, args, kwargs in self.items]\n",
            "  File \"/usr/local/lib/python3.7/dist-packages/joblib/parallel.py\", line 263, in <listcomp>\n",
            "    for func, args, kwargs in self.items]\n",
            "  File \"/usr/local/lib/python3.7/dist-packages/sklearn/utils/fixes.py\", line 216, in __call__\n",
            "    return self.function(*args, **kwargs)\n",
            "  File \"/usr/local/lib/python3.7/dist-packages/sklearn/ensemble/_forest.py\", line 185, in _parallel_build_trees\n",
            "    tree.fit(X, y, sample_weight=curr_sample_weight, check_input=False)\n",
            "  File \"/usr/local/lib/python3.7/dist-packages/sklearn/tree/_classes.py\", line 942, in fit\n",
            "    X_idx_sorted=X_idx_sorted,\n",
            "  File \"/usr/local/lib/python3.7/dist-packages/sklearn/tree/_classes.py\", line 254, in fit\n",
            "    % self.min_samples_split\n",
            "ValueError: min_samples_split must be an integer greater than 1 or a float in (0.0, 1.0]; got the integer 1\n",
            "\n",
            "  warnings.warn(some_fits_failed_message, FitFailedWarning)\n",
            "/usr/local/lib/python3.7/dist-packages/sklearn/model_selection/_search.py:972: UserWarning: One or more of the test scores are non-finite: [       nan        nan        nan        nan        nan        nan\n",
            " 0.51561718 0.54078825 0.52705623 0.53204822 0.52976175 0.54765588\n",
            " 0.4950039  0.54223879 0.52248005 0.53996205 0.53849226 0.54037288\n",
            " 0.49127749 0.53080904 0.53933749 0.51685701 0.52975115 0.53370969\n",
            " 0.52017432 0.51706577 0.53100634 0.54328327 0.52746706 0.53474659\n",
            "        nan        nan        nan        nan        nan        nan\n",
            " 0.53371596 0.53829215 0.54869451 0.54598943 0.54890176 0.54973488\n",
            " 0.55492157 0.53537592 0.54973553 0.54952655 0.54827763 0.54848769\n",
            " 0.52331316 0.54161898 0.54807146 0.55015154 0.5428653  0.55201983\n",
            " 0.54536681 0.5459838  0.55222968 0.54224441 0.55139484 0.55160598\n",
            "        nan        nan        nan        nan        nan        nan\n",
            " 0.54724657 0.55181172 0.5618011  0.56388291 0.5547273  0.55722448\n",
            " 0.54057883 0.55202113 0.55867805 0.56305066 0.56450596 0.55992999\n",
            " 0.55680154 0.55410424 0.55805694 0.56242523 0.55701723 0.55992848\n",
            " 0.54785772 0.56076203 0.55659948 0.56284081 0.55909645 0.55784796\n",
            "        nan        nan        nan        nan        nan        nan\n",
            " 0.55992978 0.56762749 0.56533605 0.56742327 0.56700293 0.56055413\n",
            " 0.56159341 0.57740702 0.56201008 0.56533821 0.56970671 0.56471602\n",
            " 0.57428528 0.56887338 0.56929589 0.56700574 0.56741916 0.57033214\n",
            " 0.56201073 0.57116288 0.56804243 0.57033063 0.56991721 0.56284168\n",
            "        nan        nan        nan        nan        nan        nan\n",
            " 0.56533518 0.58343894 0.57782088 0.58156892 0.58364857 0.57366136\n",
            " 0.57053723 0.57886319 0.57927726 0.58031914 0.57907239 0.57553138\n",
            " 0.57990031 0.58573082 0.57657283 0.58135843 0.57948581 0.5688736\n",
            " 0.57407867 0.57719891 0.57886319 0.57761514 0.57719739 0.58031892\n",
            "        nan        nan        nan        nan        nan        nan\n",
            " 0.57115898 0.57719588 0.58572952 0.58739099 0.58031719 0.58469002\n",
            " 0.57969479 0.58760041 0.58593634 0.58343916 0.58739489 0.58011038\n",
            " 0.56513118 0.57844826 0.58468872 0.58676664 0.58968157 0.58531372\n",
            " 0.57782023 0.59113969 0.58156546 0.57844458 0.58219284 0.58364771\n",
            "        nan        nan        nan        nan        nan        nan\n",
            " 0.56928702 0.58094327 0.58510431 0.59342724 0.59093027 0.58926772\n",
            " 0.57615854 0.58697627 0.59051447 0.58676967 0.58947519 0.586978\n",
            " 0.57137035 0.58843222 0.58489727 0.58781069 0.58947281 0.58489706\n",
            " 0.56991634 0.58655831 0.58302401 0.58281416 0.58947432 0.5848977\n",
            "        nan        nan        nan        nan        nan        nan\n",
            " 0.56991245 0.58676643 0.59176404 0.5907241  0.58344024 0.58489684\n",
            " 0.56721083 0.58156481 0.58052942 0.58156611 0.59009997 0.58198407\n",
            " 0.56513096 0.59321826 0.58510279 0.58926491 0.58968374 0.58593764\n",
            " 0.57136991 0.59134456 0.59051642 0.5913478  0.58864164 0.58635192\n",
            "        nan        nan        nan        nan        nan        nan\n",
            " 0.56388183 0.58656069 0.59384304 0.58635279 0.58260734 0.58198364\n",
            " 0.5715776  0.58843417 0.58302206 0.58697844 0.59113969 0.58822541\n",
            " 0.5726171  0.58032022 0.59342919 0.58343808 0.58822562 0.59072237\n",
            " 0.58260237 0.58135583 0.58302401 0.58926664 0.5869793  0.58759997\n",
            "        nan        nan        nan        nan        nan        nan\n",
            " 0.57740573 0.58302401 0.58572671 0.58739359 0.59280462 0.5882267\n",
            " 0.56908085 0.58323602 0.58593807 0.59010083 0.58469045 0.58385582\n",
            " 0.57573928 0.58239793 0.58572887 0.58031914 0.58156633 0.58219306\n",
            " 0.56929069 0.584899   0.58281784 0.58884716 0.58968114 0.58302379\n",
            "        nan        nan        nan        nan        nan        nan\n",
            " 0.57345303 0.59176079 0.58364771 0.58760106 0.5901004  0.58489749\n",
            " 0.58884954 0.59176317 0.58677119 0.59155484 0.58760149 0.58739272\n",
            " 0.584266   0.58364598 0.58323018 0.58968374 0.58781025 0.58822606\n",
            " 0.57511839 0.58489511 0.58510647 0.58822649 0.58343937 0.58115182\n",
            "        nan        nan        nan        nan        nan        nan\n",
            " 0.56055175 0.58323191 0.58905744 0.58676881 0.58760041 0.58552292\n",
            " 0.57324513 0.58801729 0.58240009 0.58468829 0.58551989 0.59322129\n",
            " 0.56803442 0.5907228  0.58447952 0.58198234 0.58739337 0.58302228\n",
            " 0.57532305 0.57594891 0.58885235 0.5844819  0.58947605 0.59176382\n",
            "        nan        nan        nan        nan        nan        nan\n",
            " 0.55722361 0.58926404 0.58676708 0.59114012 0.58656394 0.5846898\n",
            " 0.57594588 0.59238904 0.58802075 0.58718482 0.58905874 0.58739445\n",
            " 0.5678341  0.58884997 0.58739813 0.59384347 0.58635344 0.59009824\n",
            " 0.58135994 0.58198429 0.58780744 0.58884976 0.58406329 0.58385669\n",
            "        nan        nan        nan        nan        nan        nan\n",
            " 0.57261926 0.58156762 0.58780831 0.58260799 0.58510604 0.586978\n",
            " 0.57948841 0.59009889 0.58780939 0.58344089 0.58781047 0.58572974\n",
            " 0.57345281 0.58926685 0.58926729 0.58822497 0.58552076 0.58448212\n",
            " 0.58073235 0.58052574 0.58614446 0.58510474 0.58676902 0.58947519\n",
            "        nan        nan        nan        nan        nan        nan\n",
            " 0.56075813 0.58531264 0.59217962 0.58489576 0.58739143 0.58676881\n",
            " 0.57345021 0.58302293 0.58614467 0.59113925 0.58406546 0.58614511\n",
            " 0.58323623 0.58094176 0.58884759 0.58468829 0.58656242 0.58947324\n",
            " 0.57886362 0.58261124 0.58863991 0.58323256 0.58593526 0.58552119\n",
            "        nan        nan        nan        nan        nan        nan\n",
            " 0.57199253 0.58177466 0.58447974 0.58344067 0.59113752 0.58302357\n",
            " 0.57761254 0.58073581 0.59134564 0.58781242 0.58739272 0.58947497\n",
            " 0.57407413 0.58281524 0.5878109  0.58780917 0.58531199 0.58718439\n",
            " 0.57511536 0.58572974 0.58760041 0.58593569 0.59093114 0.588228\n",
            "        nan        nan        nan        nan        nan        nan\n",
            " 0.56138465 0.57969198 0.58843331 0.58448169 0.58573017 0.58780939\n",
            " 0.56554611 0.58468937 0.59155505 0.59196977 0.58885105 0.58572995\n",
            " 0.57116136 0.5905162  0.58718612 0.59093265 0.58573017 0.58843266\n",
            " 0.57864988 0.58343894 0.58614251 0.58926383 0.58739316 0.58864142\n",
            "        nan        nan        nan        nan        nan        nan\n",
            " 0.566996   0.59384325 0.58281632 0.58905939 0.58364944 0.58489857\n",
            " 0.57074621 0.59009672 0.58718677 0.58239922 0.58864532 0.5944689\n",
            " 0.57303311 0.58094111 0.59030462 0.58656329 0.58676902 0.58468699\n",
            " 0.56970476 0.58364879 0.58781047 0.58947367 0.5925952  0.58593807\n",
            "        nan        nan        nan        nan        nan        nan\n",
            " 0.57012251 0.59009867 0.58635495 0.58551773 0.58302487 0.58115139\n",
            " 0.57053615 0.59134607 0.58988904 0.58656177 0.58843309 0.58676859\n",
            " 0.57095325 0.58635149 0.58281676 0.58947454 0.58531372 0.58926556\n",
            " 0.57969501 0.58905917 0.58926664 0.5867701  0.58531134 0.58239987]\n",
            "  category=UserWarning,\n"
          ]
        },
        {
          "output_type": "stream",
          "name": "stdout",
          "text": [
            "0.5944689025854479\n",
            "{'max_depth': 69, 'min_samples_split': 9, 'n_estimators': 300}\n",
            "RandomForestClassifier(max_depth=69, min_samples_split=9, n_estimators=300)\n"
          ]
        }
      ],
      "source": [
        "from sklearn.ensemble import RandomForestClassifier\n",
        "random_forest = RandomForestClassifier(criterion = \"gini\")\n",
        "param_grid = dict(max_depth=list(range(1,75,4)),n_estimators=[10,50,100,150,200,300],min_samples_split=list(range(1,20,4)))\n",
        "grid = GridSearchCV(random_forest, param_grid, cv=5, scoring = 'recall')\n",
        "grid.fit(X_train, y_train)\n",
        "print(grid.best_score_)\n",
        "print(grid.best_params_)\n",
        "print(grid.best_estimator_)"
      ],
      "id": "xOKATjLWzjX7"
    },
    {
      "cell_type": "code",
      "execution_count": 16,
      "metadata": {
        "id": "UcpOpXs1zjb7",
        "colab": {
          "base_uri": "https://localhost:8080/"
        },
        "outputId": "f9c9c3f7-434d-4d16-fb8c-51bbb2080e28"
      },
      "outputs": [
        {
          "output_type": "stream",
          "name": "stdout",
          "text": [
            "Roc-Auc : 0.64\n",
            "Accuracy : 0.60\n",
            "Recall score : 0.60\n",
            "Precision score: 0.13\n",
            "F1 score : 0.47\n"
          ]
        }
      ],
      "source": [
        "#Refit the model with optimal hyperparameter\n",
        "from sklearn.ensemble import RandomForestClassifier\n",
        "random_forest = RandomForestClassifier(max_depth=65,n_estimators=100,min_samples_split=9)\n",
        "random_forest.fit(X_train, y_train)\n",
        "y_pred_rf = random_forest.predict(X_test)\n",
        "y_test_proba_rf = random_forest.predict_proba(X_test)[:,1]\n",
        "print(\"Roc-Auc : {0:.2f}\".format(roc_auc_score(y_test, y_test_proba_rf)))\n",
        "print(\"Accuracy : {0:.2f}\".format(accuracy_score(y_test, y_pred_rf)))\n",
        "print(\"Recall score : {0:.2f}\".format(recall_score(y_test, y_pred_rf)))\n",
        "print(\"Precision score: {0:.2f}\".format(precision_score(y_test, y_pred_rf)))\n",
        "print(\"F1 score : {0:.2f}\".format(f1_score(y_test, y_pred_rf,average='macro')))"
      ],
      "id": "UcpOpXs1zjb7"
    },
    {
      "cell_type": "code",
      "source": [
        "from sklearn.metrics import confusion_matrix\n",
        "cf_matrix = confusion_matrix(y_test, y_pred_rf)"
      ],
      "metadata": {
        "id": "xN9nzQpaPthg"
      },
      "id": "xN9nzQpaPthg",
      "execution_count": null,
      "outputs": []
    },
    {
      "cell_type": "code",
      "source": [
        "sns.heatmap(cf_matrix, annot=True, fmt=\".0f\", cmap = 'Blues')"
      ],
      "metadata": {
        "colab": {
          "base_uri": "https://localhost:8080/",
          "height": 282
        },
        "id": "GJVo3s2CvdXq",
        "outputId": "888dabc3-ac1b-4acb-c807-c00a833ed359"
      },
      "id": "GJVo3s2CvdXq",
      "execution_count": null,
      "outputs": [
        {
          "output_type": "execute_result",
          "data": {
            "text/plain": [
              "<matplotlib.axes._subplots.AxesSubplot at 0x7f60757b42d0>"
            ]
          },
          "metadata": {},
          "execution_count": 130
        },
        {
          "output_type": "display_data",
          "data": {
            "text/plain": [
              "<Figure size 432x288 with 2 Axes>"
            ],
            "image/png": "[encoded data removed]"
          },
          "metadata": {
            "needs_background": "light"
          }
        }
      ]
    },
    {
      "cell_type": "code",
      "source": [
        "from sklearn.metrics import classification_report\n",
        "print(classification_report(y_test, y_pred_rf))"
      ],
      "metadata": {
        "colab": {
          "base_uri": "https://localhost:8080/"
        },
        "id": "3d0E-Xw16qC7",
        "outputId": "7adb91d9-7db6-4eba-d285-4ae1aafda5a0"
      },
      "id": "3d0E-Xw16qC7",
      "execution_count": 31,
      "outputs": [
        {
          "output_type": "stream",
          "name": "stdout",
          "text": [
            "              precision    recall  f1-score   support\n",
            "\n",
            "           0       0.94      0.60      0.74     12287\n",
            "           1       0.13      0.60      0.21      1201\n",
            "\n",
            "    accuracy                           0.60     13488\n",
            "   macro avg       0.53      0.60      0.47     13488\n",
            "weighted avg       0.87      0.60      0.69     13488\n",
            "\n"
          ]
        }
      ]
    },
    {
      "cell_type": "code",
      "source": [
        "_# Plot out the most important features\n",
        "features = pd.DataFrame({\"importance\": random_forest.feature_importances_},index=X_train_down.columns).sort_values(\"importance\", ascending=True)\n",
        "features.tail(10).plot(kind=\"barh\",align=\"center\", figsize=(20, 10), legend=False)\n",
        "plt.title(\"The 10 highest model features indicating strong effect on readmission\")\n",
        "plt.ylabel(\"Importance\")\n",
        "plt.xticks()\n",
        "plt.show()\n"
      ],
      "metadata": {
        "colab": {
          "base_uri": "https://localhost:8080/",
          "height": 607
        },
        "id": "GR_CLTDI8dc_",
        "outputId": "2a15ed23-96ad-4016-ac93-eef1c2f02d7c"
      },
      "id": "GR_CLTDI8dc_",
      "execution_count": 18,
      "outputs": [
        {
          "output_type": "display_data",
          "data": {
            "text/plain": [
              "<Figure size 1440x720 with 1 Axes>"
            ],
            "image/png": "[encoded data removed]"
          },
          "metadata": {
            "needs_background": "light"
          }
        }
      ]
    },
    {
      "cell_type": "markdown",
      "metadata": {
        "id": "qjv6_Iq31tSj"
      },
      "source": [
        "Naïve Bayes"
      ],
      "id": "qjv6_Iq31tSj"
    },
    {
      "cell_type": "code",
      "execution_count": 33,
      "metadata": {
        "id": "3cebaff2",
        "colab": {
          "base_uri": "https://localhost:8080/"
        },
        "outputId": "6bd054a2-0c6d-4ad8-b843-df70d84f94b3"
      },
      "outputs": [
        {
          "output_type": "stream",
          "name": "stdout",
          "text": [
            "Roc-Auc : 0.63\n",
            "Accuracy : 0.10\n",
            "Recall score : 1.00\n",
            "Precision score: 0.09\n",
            "F1 score : 0.09\n"
          ]
        }
      ],
      "source": [
        "from sklearn.naive_bayes import GaussianNB \n",
        "nbmodel = GaussianNB ()\n",
        "nbmodel.fit(X_train,y_train)\n",
        "y_pred_nb = nbmodel.predict(X_test)\n",
        "y_test_proba_nb = nbmodel.predict_proba(X_test)[:,1]\n",
        "print(\"Roc-Auc : {0:.2f}\".format(roc_auc_score(y_test, y_test_proba_nb)))\n",
        "print(\"Accuracy : {0:.2f}\".format(accuracy_score(y_test, y_pred_nb)))\n",
        "print(\"Recall score : {0:.2f}\".format(recall_score(y_test, y_pred_nb)))\n",
        "print(\"Precision score: {0:.2f}\".format(precision_score(y_test, y_pred_nb)))\n",
        "print(\"F1 score : {0:.2f}\".format(f1_score(y_test, y_pred_nb,average='macro')))"
      ],
      "id": "3cebaff2"
    },
    {
      "cell_type": "code",
      "source": [
        "confusion_matrix(y_test, y_pred_nb)"
      ],
      "metadata": {
        "colab": {
          "base_uri": "https://localhost:8080/"
        },
        "id": "1GncEfmlv5Wl",
        "outputId": "599c29dd-6ad3-4d5a-a0fd-bffdd2832110"
      },
      "id": "1GncEfmlv5Wl",
      "execution_count": null,
      "outputs": [
        {
          "output_type": "execute_result",
          "data": {
            "text/plain": [
              "array([[   59, 12228],\n",
              "       [    1,  1200]])"
            ]
          },
          "metadata": {},
          "execution_count": 94
        }
      ]
    },
    {
      "cell_type": "markdown",
      "source": [
        "It basically classifies all the observations to readmitted"
      ],
      "metadata": {
        "id": "vuow_z-hRbl2"
      },
      "id": "vuow_z-hRbl2"
    },
    {
      "cell_type": "markdown",
      "metadata": {
        "id": "fH9TUTZ01yFZ"
      },
      "source": [
        "XGBoost"
      ],
      "id": "fH9TUTZ01yFZ"
    },
    {
      "cell_type": "code",
      "execution_count": null,
      "metadata": {
        "id": "263c7ea9",
        "colab": {
          "base_uri": "https://localhost:8080/"
        },
        "outputId": "acab73ed-ee64-4666-e0c2-75e50a701735"
      },
      "outputs": [
        {
          "output_type": "stream",
          "name": "stdout",
          "text": [
            "0.5907217230838459\n",
            "{'max_depth': 10, 'n_estimators': 400}\n",
            "XGBClassifier(max_depth=10, n_estimators=400)\n"
          ]
        }
      ],
      "source": [
        "from xgboost import XGBClassifier\n",
        "XGB_model = XGBClassifier()\n",
        "param_grid = dict(max_depth=list(range(1,36,3)),n_estimators=[100,200,400])\n",
        "grid = GridSearchCV(XGB_model, param_grid, cv=5, scoring = 'recall')\n",
        "grid.fit(X_train, y_train)\n",
        "print(grid.best_score_)\n",
        "print(grid.best_params_)\n",
        "print(grid.best_estimator_)"
      ],
      "id": "263c7ea9"
    },
    {
      "cell_type": "code",
      "execution_count": 34,
      "metadata": {
        "id": "fe521509",
        "colab": {
          "base_uri": "https://localhost:8080/"
        },
        "outputId": "ec04ae13-0ff0-4887-f9f4-e41945d545e1"
      },
      "outputs": [
        {
          "output_type": "stream",
          "name": "stdout",
          "text": [
            "Roc-Auc : 0.64\n",
            "Accuracy : 0.63\n",
            "Recall score : 0.57\n",
            "Precision score: 0.13\n",
            "F1 score : 0.48\n"
          ]
        }
      ],
      "source": [
        "from xgboost import XGBClassifier\n",
        "XGB_model = XGBClassifier(n_estimators=400)\n",
        "XGB_model.fit(X_train, y_train)\n",
        "y_pred_xg = XGB_model.predict(X_test)\n",
        "y_proba_xg = XGB_model.predict_proba(X_test)[:,1]\n",
        "\n",
        "print(\"Roc-Auc : {0:.2f}\".format(roc_auc_score(y_test, y_proba_xg)))\n",
        "print(\"Accuracy : {0:.2f}\".format(accuracy_score(y_test, y_pred_xg)))\n",
        "print(\"Recall score : {0:.2f}\".format(recall_score(y_test, y_pred_xg)))\n",
        "print(\"Precision score: {0:.2f}\".format(precision_score(y_test, y_pred_xg)))\n",
        "print(\"F1 score : {0:.2f}\".format(f1_score(y_test, y_pred_xg,average='macro')))\n"
      ],
      "id": "fe521509"
    },
    {
      "cell_type": "markdown",
      "metadata": {
        "id": "e994b8ba"
      },
      "source": [
        "SVM"
      ],
      "id": "e994b8ba"
    },
    {
      "cell_type": "code",
      "source": [
        "#Refit the model with optimal hyperparameter\n",
        "from sklearn.svm import SVC\n",
        "\n",
        "SVM_model_linear = SVC(kernel='linear',probability=True,C=0.01)\n",
        "SVM_model_linear.fit(X_train, y_train)\n",
        "y_pred_svm = SVM_model_linear.predict(X_test)\n",
        "y_test_proba_svm = SVM_model_linear.predict_proba(X_test)[:,1]\n",
        "print(\"Roc-Auc : {0:.2f}\".format(roc_auc_score(y_test, y_test_proba_svm)))\n",
        "print(\"Accuracy : {0:.2f}\".format(accuracy_score(y_test, y_pred_svm)))\n",
        "print(\"Recall score : {0:.2f}\".format(recall_score(y_test, y_pred_svm)))\n",
        "print(\"Precision score: {0:.2f}\".format(precision_score(y_test, y_pred_svm)))\n",
        "print(\"F1 score : {0:.2f}\".format(f1_score(y_test, y_pred_svm,average='macro')))"
      ],
      "metadata": {
        "colab": {
          "base_uri": "https://localhost:8080/"
        },
        "id": "xioTVhQxla9r",
        "outputId": "e125a265-db0c-4ed7-97ec-2464f8fd2d77"
      },
      "id": "xioTVhQxla9r",
      "execution_count": 36,
      "outputs": [
        {
          "output_type": "stream",
          "name": "stdout",
          "text": [
            "Roc-Auc : 0.63\n",
            "Accuracy : 0.75\n",
            "Recall score : 0.40\n",
            "Precision score: 0.16\n",
            "F1 score : 0.54\n"
          ]
        }
      ]
    },
    {
      "cell_type": "code",
      "source": [
        "SVM_model_rbf = SVC(kernel='rbf',probability=True,C=0.01)\n",
        "SVM_model_rbf.fit(X_train, y_train)\n",
        "y_pred_svm_rbf = SVM_model_rbf.predict(X_test)\n",
        "y_test_proba_svm_rbf = SVM_model_rbf.predict_proba(X_test)[:,1]\n",
        "print(\"Roc-Auc : {0:.2f}\".format(roc_auc_score(y_test, y_test_proba_svm_rbf)))\n",
        "print(\"Accuracy : {0:.2f}\".format(accuracy_score(y_test, y_pred_svm_rbf)))\n",
        "print(\"Recall score : {0:.2f}\".format(recall_score(y_test, y_pred_svm_rbf)))\n",
        "print(\"Precision score: {0:.2f}\".format(precision_score(y_test, y_pred_svm_rbf)))\n",
        "print(\"F1 score : {0:.2f}\".format(f1_score(y_test, y_pred_svm_rbf,average='macro')))"
      ],
      "metadata": {
        "colab": {
          "base_uri": "https://localhost:8080/"
        },
        "id": "XQPutDlcvLz_",
        "outputId": "309ae890-6b38-4b57-9244-c50f5387188d"
      },
      "id": "XQPutDlcvLz_",
      "execution_count": 37,
      "outputs": [
        {
          "output_type": "stream",
          "name": "stdout",
          "text": [
            "Roc-Auc : 0.62\n",
            "Accuracy : 0.66\n",
            "Recall score : 0.52\n",
            "Precision score: 0.13\n",
            "F1 score : 0.50\n"
          ]
        }
      ]
    },
    {
      "cell_type": "markdown",
      "source": [
        "SVC performs better on non-linear model"
      ],
      "metadata": {
        "id": "ndPEH2bo33E6"
      },
      "id": "ndPEH2bo33E6"
    },
    {
      "cell_type": "markdown",
      "metadata": {
        "id": "ooiW1En950ui"
      },
      "source": [
        "Use AUC score under ROC Curve to evaluate the models"
      ],
      "id": "ooiW1En950ui"
    },
    {
      "cell_type": "code",
      "execution_count": 38,
      "metadata": {
        "id": "5d005a63",
        "outputId": "c6a5c2a1-d127-46f4-e88d-6f8d53d95665",
        "colab": {
          "base_uri": "https://localhost:8080/",
          "height": 559
        }
      },
      "outputs": [
        {
          "output_type": "stream",
          "name": "stderr",
          "text": [
            "/usr/local/lib/python3.7/dist-packages/sklearn/utils/deprecation.py:87: FutureWarning: Function plot_roc_curve is deprecated; Function :func:`plot_roc_curve` is deprecated in 1.0 and will be removed in 1.2. Use one of the class methods: :meth:`sklearn.metric.RocCurveDisplay.from_predictions` or :meth:`sklearn.metric.RocCurveDisplay.from_estimator`.\n",
            "  warnings.warn(msg, category=FutureWarning)\n",
            "/usr/local/lib/python3.7/dist-packages/sklearn/utils/deprecation.py:87: FutureWarning: Function plot_roc_curve is deprecated; Function :func:`plot_roc_curve` is deprecated in 1.0 and will be removed in 1.2. Use one of the class methods: :meth:`sklearn.metric.RocCurveDisplay.from_predictions` or :meth:`sklearn.metric.RocCurveDisplay.from_estimator`.\n",
            "  warnings.warn(msg, category=FutureWarning)\n",
            "/usr/local/lib/python3.7/dist-packages/sklearn/utils/deprecation.py:87: FutureWarning: Function plot_roc_curve is deprecated; Function :func:`plot_roc_curve` is deprecated in 1.0 and will be removed in 1.2. Use one of the class methods: :meth:`sklearn.metric.RocCurveDisplay.from_predictions` or :meth:`sklearn.metric.RocCurveDisplay.from_estimator`.\n",
            "  warnings.warn(msg, category=FutureWarning)\n",
            "/usr/local/lib/python3.7/dist-packages/sklearn/utils/deprecation.py:87: FutureWarning: Function plot_roc_curve is deprecated; Function :func:`plot_roc_curve` is deprecated in 1.0 and will be removed in 1.2. Use one of the class methods: :meth:`sklearn.metric.RocCurveDisplay.from_predictions` or :meth:`sklearn.metric.RocCurveDisplay.from_estimator`.\n",
            "  warnings.warn(msg, category=FutureWarning)\n",
            "/usr/local/lib/python3.7/dist-packages/sklearn/utils/deprecation.py:87: FutureWarning: Function plot_roc_curve is deprecated; Function :func:`plot_roc_curve` is deprecated in 1.0 and will be removed in 1.2. Use one of the class methods: :meth:`sklearn.metric.RocCurveDisplay.from_predictions` or :meth:`sklearn.metric.RocCurveDisplay.from_estimator`.\n",
            "  warnings.warn(msg, category=FutureWarning)\n",
            "/usr/local/lib/python3.7/dist-packages/sklearn/utils/deprecation.py:87: FutureWarning: Function plot_roc_curve is deprecated; Function :func:`plot_roc_curve` is deprecated in 1.0 and will be removed in 1.2. Use one of the class methods: :meth:`sklearn.metric.RocCurveDisplay.from_predictions` or :meth:`sklearn.metric.RocCurveDisplay.from_estimator`.\n",
            "  warnings.warn(msg, category=FutureWarning)\n",
            "/usr/local/lib/python3.7/dist-packages/sklearn/utils/deprecation.py:87: FutureWarning: Function plot_roc_curve is deprecated; Function :func:`plot_roc_curve` is deprecated in 1.0 and will be removed in 1.2. Use one of the class methods: :meth:`sklearn.metric.RocCurveDisplay.from_predictions` or :meth:`sklearn.metric.RocCurveDisplay.from_estimator`.\n",
            "  warnings.warn(msg, category=FutureWarning)\n"
          ]
        },
        {
          "output_type": "execute_result",
          "data": {
            "text/plain": [
              "<sklearn.metrics._plot.roc_curve.RocCurveDisplay at 0x7f12ee778e50>"
            ]
          },
          "metadata": {},
          "execution_count": 38
        },
        {
          "output_type": "display_data",
          "data": {
            "text/plain": [
              "<Figure size 432x288 with 1 Axes>"
            ],
            "image/png": "[encoded data removed]"
          },
          "metadata": {
            "needs_background": "light"
          }
        }
      ],
      "source": [
        "from sklearn.metrics import plot_roc_curve\n",
        "disp = plot_roc_curve(logistic_regression_model, X_test, y_test)\n",
        "plot_roc_curve(knn, X_test, y_test, ax=disp.ax_)\n",
        "plot_roc_curve(dtree, X_test, y_test, ax=disp.ax_)\n",
        "plot_roc_curve(random_forest, X_test, y_test, ax=disp.ax_)\n",
        "plot_roc_curve(SVM_model_rbf, X_test, y_test, ax=disp.ax_)\n",
        "plot_roc_curve(nbmodel, X_test, y_test, ax=disp.ax_)\n",
        "plot_roc_curve(XGB_model, X_test, y_test, ax=disp.ax_)\n"
      ],
      "id": "5d005a63"
    },
    {
      "cell_type": "markdown",
      "source": [
        "Overall Random Forest has better performance"
      ],
      "metadata": {
        "id": "qdbfWZ1pIot7"
      },
      "id": "qdbfWZ1pIot7"
    },
    {
      "cell_type": "markdown",
      "source": [
        "Neural Network Model"
      ],
      "metadata": {
        "id": "azYNlo40cKol"
      },
      "id": "azYNlo40cKol"
    },
    {
      "cell_type": "markdown",
      "source": [
        "Simple MLP"
      ],
      "metadata": {
        "id": "hiXWXezYcyYc"
      },
      "id": "hiXWXezYcyYc"
    },
    {
      "cell_type": "code",
      "source": [
        "from tensorflow import random as tf_random\n",
        "from tensorflow import keras\n",
        "from keras.callbacks import Callback\n",
        "from tensorflow.keras.layers import Dense, Dropout, Embedding, LSTM, GRU, BatchNormalization\n",
        "from tensorflow.keras.optimizers import Adam\n",
        "from tensorflow.keras import layers\n",
        "\n",
        "model = keras.Sequential()\n",
        "model.add(layers.Dense(64, activation=\"relu\"))\n",
        "model.add(layers.Dense(64, activation=\"relu\"))\n",
        "model.add(layers.Dense(64, activation=\"relu\"))\n",
        "model.add(layers.Dense(64, activation=\"relu\"))\n",
        "model.add(layers.Dense(64, activation=\"relu\"))\n",
        "model.add(layers.Dense(64, activation=\"relu\"))\n",
        "\n",
        "\n",
        "model.add(layers.Dense(1, activation=\"sigmoid\"))\n",
        "\n",
        "model.compile(\n",
        "    optimizer=keras.optimizers.Adam(lr=0.0001),  \n",
        "    loss=keras.losses.BinaryCrossentropy(),\n",
        "    metrics=[keras.metrics.BinaryAccuracy(),keras.metrics.Precision(),keras.metrics.Recall(),keras.metrics.AUC()]\n",
        ")\n",
        "\n",
        "history = model.fit(X_train, y_train, epochs=17,validation_data=(X_test, y_test),verbose=0)\n",
        "\n",
        "\n",
        "\n"
      ],
      "metadata": {
        "id": "CS87cSxef6Ws",
        "colab": {
          "base_uri": "https://localhost:8080/"
        },
        "outputId": "a476b068-cbdc-43f4-e25d-62d6bed8b802"
      },
      "id": "CS87cSxef6Ws",
      "execution_count": 19,
      "outputs": [
        {
          "output_type": "stream",
          "name": "stderr",
          "text": [
            "/usr/local/lib/python3.7/dist-packages/keras/optimizer_v2/adam.py:105: UserWarning: The `lr` argument is deprecated, use `learning_rate` instead.\n",
            "  super(Adam, self).__init__(name, **kwargs)\n"
          ]
        }
      ]
    },
    {
      "cell_type": "code",
      "source": [
        "plt.figure(figsize=(10,5))\n",
        "plt.plot(history.history['loss'])\n",
        "plt.plot(history.history['val_loss'])\n",
        "plt.title('Model Loss')\n",
        "plt.ylabel('Loss')\n",
        "plt.xlabel('Epoch')\n",
        "plt.legend(['Train', 'Validation'])\n",
        "plt.show()"
      ],
      "metadata": {
        "colab": {
          "base_uri": "https://localhost:8080/",
          "height": 350
        },
        "id": "vQyu3K9WeAxr",
        "outputId": "54bfe4c9-615a-4e8c-f184-06fbcb7f107e"
      },
      "id": "vQyu3K9WeAxr",
      "execution_count": 20,
      "outputs": [
        {
          "output_type": "display_data",
          "data": {
            "text/plain": [
              "<Figure size 720x360 with 1 Axes>"
            ],
            "image/png": "[encoded data removed]"
          },
          "metadata": {
            "needs_background": "light"
          }
        }
      ]
    },
    {
      "cell_type": "code",
      "source": [
        "plt.figure(figsize=(10,5))\n",
        "plt.plot(history.history['auc'])\n",
        "plt.plot(history.history['val_auc'])\n",
        "plt.title('Model accuracy')\n",
        "plt.ylabel('Accuracy')\n",
        "plt.xlabel('Epoch')\n",
        "plt.legend(['Train', 'Validation'])\n",
        "plt.show()\n"
      ],
      "metadata": {
        "colab": {
          "base_uri": "https://localhost:8080/",
          "height": 350
        },
        "id": "X6sefLvRdya9",
        "outputId": "b38b589b-e52d-45a5-bc37-60a246162ef8"
      },
      "id": "X6sefLvRdya9",
      "execution_count": 21,
      "outputs": [
        {
          "output_type": "display_data",
          "data": {
            "text/plain": [
              "<Figure size 720x360 with 1 Axes>"
            ],
            "image/png": "[encoded data removed]"
          },
          "metadata": {
            "needs_background": "light"
          }
        }
      ]
    },
    {
      "cell_type": "code",
      "source": [
        "plt.figure(figsize=(10,5))\n",
        "plt.plot(history.history['recall'])\n",
        "plt.plot(history.history['val_recall'])\n",
        "plt.title('Model Recall Score')\n",
        "plt.ylabel('Recall Score')\n",
        "plt.xlabel('Epoch')\n",
        "plt.legend(['Train', 'Validation'])\n",
        "plt.show()"
      ],
      "metadata": {
        "id": "1FAaujP3eK1c",
        "colab": {
          "base_uri": "https://localhost:8080/",
          "height": 350
        },
        "outputId": "f455e449-8a9a-485b-d510-334d957f6cfd"
      },
      "id": "1FAaujP3eK1c",
      "execution_count": 22,
      "outputs": [
        {
          "output_type": "display_data",
          "data": {
            "text/plain": [
              "<Figure size 720x360 with 1 Axes>"
            ],
            "image/png": "[encoded data removed]"
          },
          "metadata": {
            "needs_background": "light"
          }
        }
      ]
    },
    {
      "cell_type": "code",
      "source": [
        "history.history.keys()"
      ],
      "metadata": {
        "colab": {
          "base_uri": "https://localhost:8080/"
        },
        "id": "zK-VmA2juZ1J",
        "outputId": "c07a55c3-d63e-4ae4-e2c3-0c9b4b3e9033"
      },
      "id": "zK-VmA2juZ1J",
      "execution_count": 23,
      "outputs": [
        {
          "output_type": "execute_result",
          "data": {
            "text/plain": [
              "dict_keys(['loss', 'binary_accuracy', 'precision', 'recall', 'auc', 'val_loss', 'val_binary_accuracy', 'val_precision', 'val_recall', 'val_auc'])"
            ]
          },
          "metadata": {},
          "execution_count": 23
        }
      ]
    },
    {
      "cell_type": "code",
      "source": [
        "train_accuracy = history.history[\"binary_accuracy\"][-1]\n",
        "accuracy = history.history[\"val_binary_accuracy\"][-1]\n",
        "\n",
        "train_precision = history.history['precision'][-1]\n",
        "precision = history.history[\"val_precision\"][-1]\n",
        "\n",
        "train_recall = history.history['recall'][-1]\n",
        "recall = history.history[\"val_recall\"][-1]\n",
        "\n",
        "train_AUC = history.history['auc'][-1]\n",
        "AUC = history.history[\"val_auc\"][-1]\n",
        "\n",
        "print(f\"Train Accuracy: {train_accuracy:.2f}\")\n",
        "print(f\"Train precision: {train_precision:.2f}\")\n",
        "print(f\"Train recall: {train_recall:.2f}\")\n",
        "print(f\"Train AUC: {train_AUC:.2f}\")\n",
        "print('*'*50)\n",
        "print(f\"Test Accuracy: {accuracy:.2f}\") \n",
        "print(f\"Test precision: {precision:.2f}\") \n",
        "print(f\"Test recall: {recall:.2f}\") \n",
        "print(f\"Test AUC: {AUC:.2f}\") \n",
        "\n"
      ],
      "metadata": {
        "id": "Oot0KaWmp9Et",
        "colab": {
          "base_uri": "https://localhost:8080/"
        },
        "outputId": "480e8cd4-9548-4348-8f34-b41874eb7f6e"
      },
      "id": "Oot0KaWmp9Et",
      "execution_count": 24,
      "outputs": [
        {
          "output_type": "stream",
          "name": "stdout",
          "text": [
            "Train Accuracy: 0.67\n",
            "Train precision: 0.67\n",
            "Train recall: 0.68\n",
            "Train AUC: 0.73\n",
            "**************************************************\n",
            "Test Accuracy: 0.61\n",
            "Test precision: 0.13\n",
            "Test recall: 0.59\n",
            "Test AUC: 0.63\n"
          ]
        }
      ]
    },
    {
      "cell_type": "code",
      "source": [
        "log_recall = recall_score(y_test, y_pred_log)\n",
        "svm_recall = recall_score(y_test, y_pred_svm_rbf)\n",
        "dt_recall = recall_score(y_test, y_pred_dtree)\n",
        "rf_recall = recall_score(y_test, y_pred_rf)\n",
        "nb_recall = recall_score(y_test, y_pred_nb)\n",
        "xg_recall = recall_score(y_test, y_pred_xg)\n",
        "knn_recall = recall_score(y_test, y_pred_knn)\n",
        "MLP_recall = history.history[\"val_recall\"][-1]\n",
        "\n",
        "log_precision = precision_score(y_test, y_pred_log)\n",
        "svm_precision = precision_score(y_test, y_pred_svm_rbf)\n",
        "dt_precision = precision_score(y_test, y_pred_dtree)\n",
        "rf_precision = precision_score(y_test, y_pred_rf)\n",
        "nb_precision = precision_score(y_test, y_pred_nb)\n",
        "xg_precision = precision_score(y_test, y_pred_xg)\n",
        "knn_precision = precision_score(y_test, y_pred_knn)\n",
        "MLP_precision = history.history[\"val_precision\"][-1]\n",
        "\n",
        "log_auc = roc_auc_score(y_test, y_test_proba)\n",
        "svm_auc = roc_auc_score(y_test, y_test_proba_svm_rbf)\n",
        "dt_auc = roc_auc_score(y_test, y_test_proba_dtree)\n",
        "rf_auc = roc_auc_score(y_test, y_test_proba_rf)\n",
        "nb_auc = roc_auc_score(y_test, y_test_proba_nb)\n",
        "xg_auc = roc_auc_score(y_test, y_test_proba_svm_rbf)\n",
        "knn_auc = roc_auc_score(y_test, y_pred_knn)\n",
        "MLP_auc = history.history[\"val_auc\"][-1]"
      ],
      "metadata": {
        "id": "_Pb97RapFxYN"
      },
      "id": "_Pb97RapFxYN",
      "execution_count": 39,
      "outputs": []
    },
    {
      "cell_type": "code",
      "source": [
        "plt.figure(figsize=(14, 7))\n",
        "ax = plt.subplot(111)\n",
        "ax = plt.subplot(111)\n",
        "\n",
        "models = ['Logistic Regression', 'SVM', 'Decision Tree','Random Forest','Naïve Bayes','XGBoost','KNN','MLP']\n",
        "values = [log_auc, svm_auc, dt_auc,rf_auc,nb_auc,xg_auc,knn_auc,MLP_auc]\n",
        "model = np.arange(len(models))\n",
        "\n",
        "plt.bar(model, values, align='center', width = 0.15, alpha=0.7, color = 'blue', label = 'AUC')\n",
        "plt.xticks(model, models)\n",
        "\n",
        "\n",
        "models = ['Logistic Regression', 'SVM', 'Decision Tree','Random Forest','Naïve Bayes','XGBoost','KNN','MLP']\n",
        "values = [log_recall, svm_recall, dt_recall,rf_recall,nb_recall,xg_recall,knn_recall,MLP_recall]\n",
        "model = np.arange(len(models))\n",
        "\n",
        "plt.bar(model+0.15, values, align='center', width = 0.15, alpha=0.7, color = 'red', label= 'recall')\n",
        "plt.xticks(model, models)\n",
        "           \n",
        "ax = plt.subplot(111)\n",
        "\n",
        "models = ['Logistic Regression', 'SVM', 'Decision Tree','Random Forest','Naïve Bayes','XGBoost','KNN','MLP']\n",
        "values = [log_precision, svm_precision, dt_precision,rf_precision,nb_precision,xg_precision,knn_precision,MLP_precision]\n",
        "model = np.arange(len(models))\n",
        "\n",
        "plt.bar(model+0.3, values, align='center', width = 0.15, alpha=0.7, color = 'grey', label = 'precision')\n",
        "plt.xticks(model, models)\n",
        "\n",
        "\n",
        "\n",
        "plt.ylabel('Performance Metrics for Different models')\n",
        "plt.title('Model')\n",
        "\n",
        "plt.ylabel('Performance Metrics for Different models')\n",
        "plt.title('Model')\n",
        "    \n",
        "# removing the axis on the top and right of the plot window\n",
        "ax.spines['right'].set_visible(False)\n",
        "ax.spines['top'].set_visible(False)\n",
        "ax.legend()\n",
        "\n",
        "plt.show()           "
      ],
      "metadata": {
        "colab": {
          "base_uri": "https://localhost:8080/",
          "height": 516
        },
        "id": "kusTIaw_F4lo",
        "outputId": "43d7e56b-85e2-40b1-ec15-59b21786099d"
      },
      "id": "kusTIaw_F4lo",
      "execution_count": 40,
      "outputs": [
        {
          "output_type": "stream",
          "name": "stderr",
          "text": [
            "/usr/local/lib/python3.7/dist-packages/ipykernel_launcher.py:3: MatplotlibDeprecationWarning: Adding an axes using the same arguments as a previous axes currently reuses the earlier instance.  In a future version, a new instance will always be created and returned.  Meanwhile, this warning can be suppressed, and the future behavior ensured, by passing a unique label to each axes instance.\n",
            "  This is separate from the ipykernel package so we can avoid doing imports until\n",
            "/usr/local/lib/python3.7/dist-packages/ipykernel_launcher.py:20: MatplotlibDeprecationWarning: Adding an axes using the same arguments as a previous axes currently reuses the earlier instance.  In a future version, a new instance will always be created and returned.  Meanwhile, this warning can be suppressed, and the future behavior ensured, by passing a unique label to each axes instance.\n"
          ]
        },
        {
          "output_type": "display_data",
          "data": {
            "text/plain": [
              "<Figure size 1008x504 with 1 Axes>"
            ],
            "image/png": "[encoded data removed]"
          },
          "metadata": {
            "needs_background": "light"
          }
        }
      ]
    },
    {
      "cell_type": "markdown",
      "source": [
        "The best performed model is random forest. It was able to capture 60% of true readmitted observations. The precision scores across all models are low due to the following reasons:\n",
        "1. The dataset is not informative as a lot of results and medications values shown as \"No\" or \"None\" \n",
        "2. A lot of patients (40% of \"not readmitted class) were readmitted to hospital after 30 days, they were classified as \"readmitted\" in our model\n"
      ],
      "metadata": {
        "id": "4yMV5Aj_TMg_"
      },
      "id": "4yMV5Aj_TMg_"
    }
  ],
  "metadata": {
    "colab": {
      "name": "Machine Learning Model.ipynb",
      "provenance": [],
      "collapsed_sections": [],
      "machine_shape": "hm"
    },
    "kernelspec": {
      "display_name": "Python 3 (ipykernel)",
      "language": "python",
      "name": "python3"
    },
    "language_info": {
      "codemirror_mode": {
        "name": "ipython",
        "version": 3
      },
      "file_extension": ".py",
      "mimetype": "text/x-python",
      "name": "python",
      "nbconvert_exporter": "python",
      "pygments_lexer": "ipython3",
      "version": "3.9.7"
    },
    "accelerator": "GPU",
    "gpuClass": "standard"
  },
  "nbformat": 4,
  "nbformat_minor": 5
}